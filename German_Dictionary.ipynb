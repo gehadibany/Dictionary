{
 "cells": [
  {
   "cell_type": "code",
   "execution_count": null,
   "id": "e8c09924",
   "metadata": {},
   "outputs": [],
   "source": [
    "import ast\n",
    "file_reader = open( 'german_dictionary.txt', 'r' )\n",
    "german_dic  = ast.literal_eval( file_reader.read( ) )\n",
    "dcontntinue = 'y'\n",
    "while dcontntinue == 'y':\n",
    "    x = input('Enter the word in German:')\n",
    "    check =x in german_dic\n",
    "    if check == True:\n",
    "        print ('The meaning is', german_dic[x])\n",
    "        \n",
    "    else:\n",
    "        german_dic[x] = input(\"Not found. Enter the word in English to be added:\")\n",
    "        print ('Sucessfully added!')\n",
    "    \n",
    "    dcontntinue = input('Do you want to continue? y/n')\n",
    "\n",
    "file_writer = open( 'german_dictionary.txt', 'w+' )\n",
    "file_writer.write(str(german_dic))\n",
    "file_writer.close()\n",
    "print ('Danke! Tschüss!')\n"
   ]
  },
  {
   "cell_type": "code",
   "execution_count": null,
   "id": "b3f894a5",
   "metadata": {},
   "outputs": [],
   "source": []
  }
 ],
 "metadata": {
  "kernelspec": {
   "display_name": "Python 3",
   "language": "python",
   "name": "python3"
  },
  "language_info": {
   "codemirror_mode": {
    "name": "ipython",
    "version": 3
   },
   "file_extension": ".py",
   "mimetype": "text/x-python",
   "name": "python",
   "nbconvert_exporter": "python",
   "pygments_lexer": "ipython3",
   "version": "3.6.9"
  }
 },
 "nbformat": 4,
 "nbformat_minor": 5
}
