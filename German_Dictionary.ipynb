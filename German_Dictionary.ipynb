{
 "cells": [
  {
   "cell_type": "code",
   "execution_count": 8,
   "id": "e8c09924",
   "metadata": {},
   "outputs": [
    {
     "name": "stdout",
     "output_type": "stream",
     "text": [
      "Enter the word in German:ich\n",
      "The meaning is I\n",
      "Do you want to continue? y/ny\n",
      "Enter the word in German:guten morgen\n",
      "Not found. Enter the word in English to be added:good morning\n",
      "Sucessfully added!\n",
      "Do you want to continue? y/ny\n",
      "Enter the word in German:guten morgen\n",
      "The meaning is good morning\n",
      "Do you want to continue? y/nn\n",
      "Thank you! Come again later!\n"
     ]
    }
   ],
   "source": [
    "german_dic = {'ich': 'I'}\n",
    "dcontntinue = 'y'\n",
    "while dcontntinue == 'y':\n",
    "    x = input('Enter the word in German:')\n",
    "    check =x in german_dic\n",
    "    if check == True:\n",
    "        print ('The meaning is', german_dic[x])\n",
    "        \n",
    "    else:\n",
    "        german_dic[x] = input(\"Not found. Enter the word in English to be added:\")\n",
    "        print ('Sucessfully added!')\n",
    "    \n",
    "    dcontntinue = input('Do you want to continue? y/n')\n",
    "print ('Thank you! Come again later!')\n"
   ]
  },
  {
   "cell_type": "code",
   "execution_count": null,
   "id": "b3f894a5",
   "metadata": {},
   "outputs": [],
   "source": []
  }
 ],
 "metadata": {
  "kernelspec": {
   "display_name": "Python 3",
   "language": "python",
   "name": "python3"
  },
  "language_info": {
   "codemirror_mode": {
    "name": "ipython",
    "version": 3
   },
   "file_extension": ".py",
   "mimetype": "text/x-python",
   "name": "python",
   "nbconvert_exporter": "python",
   "pygments_lexer": "ipython3",
   "version": "3.6.9"
  }
 },
 "nbformat": 4,
 "nbformat_minor": 5
}
